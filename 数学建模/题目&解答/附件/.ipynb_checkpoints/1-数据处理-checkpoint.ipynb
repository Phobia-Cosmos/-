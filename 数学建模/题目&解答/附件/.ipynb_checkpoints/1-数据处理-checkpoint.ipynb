{
 "cells": [
  {
   "cell_type": "markdown",
   "id": "efcc10a1-6877-4656-a559-5fd6f6aa8b1d",
   "metadata": {},
   "source": [
    "# 本程序用于观察数据的基本特征、计算单品日销量、计算各种类蔬菜日销量、计算各种类蔬菜平均批发价"
   ]
  },
  {
   "cell_type": "code",
   "execution_count": 1,
   "id": "62e840bd-58aa-4efb-a9aa-cc1002bc6759",
   "metadata": {},
   "outputs": [],
   "source": [
    "import numpy as np\n",
    "import pandas as pd"
   ]
  },
  {
   "cell_type": "code",
   "execution_count": 4,
   "id": "629231eb-9d5e-46b2-9962-b42450c087c7",
   "metadata": {
    "scrolled": true
   },
   "outputs": [],
   "source": [
    "# 为了方便，将附件的文件名和各附件内不同列名进行了修改（转换为英文）;注意：读取数据时要设置文件路径\n",
    "df = pd.read_excel(\"1.xlsx\")\n",
    "df1=pd.read_excel(\"2.xlsx\")\n",
    "df2=pd.read_excel(\"3.xlsx\")\n",
    "df3=pd.read_excel(\"4_1.xlsx\", index_col=0)"
   ]
  },
  {
   "cell_type": "code",
   "execution_count": 20,
   "id": "9c416f12-b55c-4629-8a32-b440b52bb934",
   "metadata": {},
   "outputs": [],
   "source": [
    "## 将附件一的蔬菜种类转换为数字，附件二的销售类型与打折转换为数字（可以不进行，如果要做这一步就要先把附录的列名进行修改）\n",
    "\n",
    "# columns=[\"category_name\"]\n",
    "# mapping_dict = {}\n",
    "# for column_name in columns:\n",
    "#     unique_values = df[column_name].unique()\n",
    "#     value_to_number = {value: number for number, value in enumerate(unique_values)}\n",
    "#     mapping_dict[column_name] = value_to_number\n",
    "\n",
    "# # Replace values in all columns with numbers\n",
    "# for column_name in columns:\n",
    "#     df[column_name] = df[column_name].replace(mapping_dict[column_name])\n",
    "\n",
    "# columns=[\"type\",\"is_discount\"]\n",
    "# mapping_dict = {}\n",
    "# for column_name in columns:\n",
    "#     unique_values = df1[column_name].unique()\n",
    "#     value_to_number = {value: number for number, value in enumerate(unique_values)}\n",
    "#     mapping_dict[column_name] = value_to_number\n",
    "\n",
    "# # Replace values in all columns with numbers\n",
    "# for column_name in columns:\n",
    "#     df1[column_name] = df1[column_name].replace(mapping_dict[column_name])"
   ]
  },
  {
   "cell_type": "markdown",
   "id": "bfbdfe4a-63ae-4b95-95ec-1ebe8b662787",
   "metadata": {},
   "source": [
    "## 观察数据的基本特征"
   ]
  },
  {
   "cell_type": "code",
   "execution_count": 5,
   "id": "d573deaa-b997-47da-9d49-04b6af5e919f",
   "metadata": {},
   "outputs": [
    {
     "name": "stdout",
     "output_type": "stream",
     "text": [
      "        product_code product_name  category_code  category_name\n",
      "198  102900011011782    虫草花(盒)(1)     1011010801              5\n",
      "       product_code product_name  category_code  category_name\n",
      "20  102900005116776         本地菠菜     1011010101              0\n",
      "        product_code product_name  category_code  category_name\n",
      "163  102900011032145      芜湖青椒(份)     1011010504              4\n",
      "        product_code product_name  category_code  category_name\n",
      "105  102900005116042            藕     1011010402              2\n",
      "        product_code product_name  category_code  category_name\n",
      "150  102900011023648      芜湖青椒(2)     1011010504              4\n"
     ]
    },
    {
     "data": {
      "text/plain": [
       "<DatetimeArray>\n",
       "['2022-11-02 00:00:00', '2022-11-04 00:00:00', '2022-11-30 00:00:00',\n",
       " '2022-12-01 00:00:00', '2022-12-02 00:00:00', '2022-12-03 00:00:00']\n",
       "Length: 6, dtype: datetime64[ns]"
      ]
     },
     "execution_count": 5,
     "metadata": {},
     "output_type": "execute_result"
    }
   ],
   "source": [
    "unique_to_df1 = df1[~df1['product_code'].isin(df2['product_code'])]\n",
    "unique_to_df2 = df2[~df2['product_code'].isin(df1['product_code'])]\n",
    "\n",
    "date_unique_to_df1 = df1[~df1['sale_date'].isin(df2['sale_date'])]\n",
    "date_unique_to_df2 = df2[~df2['sale_date'].isin(df1['sale_date'])]\n",
    "for col in unique_to_df2['product_code'].unique():\n",
    "    print(df[df['product_code'] == col])\n",
    "\n",
    "date_unique_to_df2['sale_date'].unique()"
   ]
  },
  {
   "cell_type": "markdown",
   "id": "1cd9fb4c-e447-4581-b481-7d402222df74",
   "metadata": {},
   "source": [
    "## 计算单品日销量"
   ]
  },
  {
   "cell_type": "code",
   "execution_count": 6,
   "id": "d73103fc-4127-437b-bdd3-ef7e7c9732c9",
   "metadata": {},
   "outputs": [],
   "source": [
    "# 统计单品的日销量（缺失6天的数据）\n",
    "date_unique = df1['sale_date'].unique()\n",
    "product_unique = df1['product_code'].unique()\n",
    "total_sales = pd.DataFrame(0, index=date_unique, columns=product_unique)  # 用来统计单品日销量\n",
    "for index, row in df1.iterrows():\n",
    "    saled = row['type']\n",
    "    date = row['sale_date']\n",
    "    kind = row['product_code']\n",
    "    volume = row['volume']\n",
    "    unit_price = row['unit_price']\n",
    "    total_sales.at[date, kind] += volume\n"
   ]
  },
  {
   "cell_type": "markdown",
   "id": "d57a5a5f-c05d-4b37-841d-72f67398b75a",
   "metadata": {},
   "source": [
    "### 填补单品日销量缺失数据"
   ]
  },
  {
   "cell_type": "code",
   "execution_count": 7,
   "id": "c50ff2b5-ead1-4c57-906f-fe930b2b20ad",
   "metadata": {},
   "outputs": [],
   "source": [
    "# 对于单品日销量数据缺失的6天数据，由于数据缺失都发生在2022年，于是我们采取用前两年同天的数据进行填补。\n",
    "# （如果某类单品在前两年同一天均有出售，我们便将今年的销售量取为前两年均值）\n",
    "dates=['2022-11-02 00:00:00', '2022-11-04 00:00:00', '2022-11-30 00:00:00',\n",
    " '2022-12-01 00:00:00', '2022-12-02 00:00:00', '2022-12-03 00:00:00']\n",
    "dates_datetime = pd.to_datetime(dates)\n",
    "\n",
    "for date in dates_datetime:\n",
    "    date1 = date - pd.DateOffset(years=1)\n",
    "    date2 = date - pd.DateOffset(years=2)\n",
    "    for col in total_sales.columns:\n",
    "        if total_sales.loc[date2][col] != 0 and total_sales.loc[date1][col] != 0:\n",
    "            total_sales.loc[date, col]=(total_sales.loc[date2][col]+total_sales.loc[date1][col])/2\n",
    "            \n",
    "total_sales=total_sales.sort_index().fillna(0)\n",
    "total_sales.to_excel('蔬菜单品日销量.xlsx', index=True)"
   ]
  },
  {
   "cell_type": "markdown",
   "id": "4a156dce-7fd6-4ecf-a44e-05a6d1bb8d05",
   "metadata": {},
   "source": [
    "## 计算各种类蔬菜日销量"
   ]
  },
  {
   "cell_type": "code",
   "execution_count": 8,
   "id": "ce3ec2ce-deb8-42e1-9ddf-ad8b5e8d5759",
   "metadata": {},
   "outputs": [],
   "source": [
    "# 统计各类蔬菜的日销量\n",
    "date_unique = total_sales.index.unique()\n",
    "product_unique = df['category_name'].unique()\n",
    "cate_sale = pd.DataFrame(0, index=date_unique, columns=product_unique)\n",
    "\n",
    "for index, row in total_sales.iterrows():\n",
    "    for kind in df['category_name'].unique():\n",
    "        for col in total_sales.columns:\n",
    "            if col in df[df['category_name']==kind]['product_code'].values:\n",
    "                cate_sale.at[index, kind] += row[col]\n",
    "\n",
    "name = ['花叶类', '花菜类', '水生根茎类', '茄类', '辣椒类', '食用菌']\n",
    "cate_sale.columns = name\n",
    "cate_sale.to_excel('蔬菜品类日销量.xlsx', index=True)"
   ]
  },
  {
   "cell_type": "markdown",
   "id": "9a12bc0d-ed5e-4b9a-bff7-56ed21066e02",
   "metadata": {},
   "source": [
    "## 计算各种类蔬菜平均批发价"
   ]
  },
  {
   "cell_type": "code",
   "execution_count": 9,
   "id": "7078dff5-ad0f-4360-b5fd-8765e0a3629c",
   "metadata": {},
   "outputs": [
    {
     "data": {
      "text/html": [
       "<div>\n",
       "<style scoped>\n",
       "    .dataframe tbody tr th:only-of-type {\n",
       "        vertical-align: middle;\n",
       "    }\n",
       "\n",
       "    .dataframe tbody tr th {\n",
       "        vertical-align: top;\n",
       "    }\n",
       "\n",
       "    .dataframe thead th {\n",
       "        text-align: right;\n",
       "    }\n",
       "</style>\n",
       "<table border=\"1\" class=\"dataframe\">\n",
       "  <thead>\n",
       "    <tr style=\"text-align: right;\">\n",
       "      <th></th>\n",
       "      <th>sale_date</th>\n",
       "      <th>product_code</th>\n",
       "      <th>wholesale_price</th>\n",
       "      <th>category_name</th>\n",
       "    </tr>\n",
       "  </thead>\n",
       "  <tbody>\n",
       "    <tr>\n",
       "      <th>0</th>\n",
       "      <td>2020-07-01</td>\n",
       "      <td>102900005115762</td>\n",
       "      <td>3.88</td>\n",
       "      <td>0</td>\n",
       "    </tr>\n",
       "    <tr>\n",
       "      <th>1</th>\n",
       "      <td>2020-07-02</td>\n",
       "      <td>102900005115762</td>\n",
       "      <td>3.93</td>\n",
       "      <td>0</td>\n",
       "    </tr>\n",
       "    <tr>\n",
       "      <th>2</th>\n",
       "      <td>2020-07-03</td>\n",
       "      <td>102900005115762</td>\n",
       "      <td>3.57</td>\n",
       "      <td>0</td>\n",
       "    </tr>\n",
       "    <tr>\n",
       "      <th>3</th>\n",
       "      <td>2020-07-05</td>\n",
       "      <td>102900005115762</td>\n",
       "      <td>3.48</td>\n",
       "      <td>0</td>\n",
       "    </tr>\n",
       "    <tr>\n",
       "      <th>4</th>\n",
       "      <td>2020-07-06</td>\n",
       "      <td>102900005115762</td>\n",
       "      <td>3.35</td>\n",
       "      <td>0</td>\n",
       "    </tr>\n",
       "    <tr>\n",
       "      <th>...</th>\n",
       "      <td>...</td>\n",
       "      <td>...</td>\n",
       "      <td>...</td>\n",
       "      <td>...</td>\n",
       "    </tr>\n",
       "    <tr>\n",
       "      <th>55977</th>\n",
       "      <td>2023-06-21</td>\n",
       "      <td>102900011036686</td>\n",
       "      <td>1.37</td>\n",
       "      <td>0</td>\n",
       "    </tr>\n",
       "    <tr>\n",
       "      <th>55978</th>\n",
       "      <td>2023-06-23</td>\n",
       "      <td>102900011036686</td>\n",
       "      <td>1.22</td>\n",
       "      <td>0</td>\n",
       "    </tr>\n",
       "    <tr>\n",
       "      <th>55979</th>\n",
       "      <td>2023-06-27</td>\n",
       "      <td>102900011036686</td>\n",
       "      <td>1.46</td>\n",
       "      <td>0</td>\n",
       "    </tr>\n",
       "    <tr>\n",
       "      <th>55980</th>\n",
       "      <td>2023-06-29</td>\n",
       "      <td>102900011036686</td>\n",
       "      <td>1.71</td>\n",
       "      <td>0</td>\n",
       "    </tr>\n",
       "    <tr>\n",
       "      <th>55981</th>\n",
       "      <td>2023-06-30</td>\n",
       "      <td>102900011036686</td>\n",
       "      <td>1.53</td>\n",
       "      <td>0</td>\n",
       "    </tr>\n",
       "  </tbody>\n",
       "</table>\n",
       "<p>55982 rows × 4 columns</p>\n",
       "</div>"
      ],
      "text/plain": [
       "       sale_date     product_code  wholesale_price  category_name\n",
       "0     2020-07-01  102900005115762             3.88              0\n",
       "1     2020-07-02  102900005115762             3.93              0\n",
       "2     2020-07-03  102900005115762             3.57              0\n",
       "3     2020-07-05  102900005115762             3.48              0\n",
       "4     2020-07-06  102900005115762             3.35              0\n",
       "...          ...              ...              ...            ...\n",
       "55977 2023-06-21  102900011036686             1.37              0\n",
       "55978 2023-06-23  102900011036686             1.22              0\n",
       "55979 2023-06-27  102900011036686             1.46              0\n",
       "55980 2023-06-29  102900011036686             1.71              0\n",
       "55981 2023-06-30  102900011036686             1.53              0\n",
       "\n",
       "[55982 rows x 4 columns]"
      ]
     },
     "execution_count": 9,
     "metadata": {},
     "output_type": "execute_result"
    }
   ],
   "source": [
    "# 将附件1与附件三按照单品编号进行合并，使用合并的数据计算各品类日均批发价\n",
    "whole_price = df2.merge(df, on=['product_code', 'product_code'], how='inner')\n",
    "del whole_price['category_code']\n",
    "del whole_price['product_name']\n",
    "whole_price"
   ]
  },
  {
   "cell_type": "code",
   "execution_count": 12,
   "id": "ba99cbd3-7a32-408e-965d-29f68305f9ae",
   "metadata": {},
   "outputs": [],
   "source": [
    "# 统计各类蔬菜的批发价;也可以使用Excel进行处理，本文采用Excel处理\n",
    "# date_unique = total_sales.index.unique()\n",
    "# product_unique = df['category_name'].unique()\n",
    "# price = pd.DataFrame(0, index=date_unique, columns=product_unique)\n",
    "# for kind in df['category_name'].unique():\n",
    "#     # print(kind)\n",
    "#     # print('\\n')\n",
    "#     for index, row in whole_price.iterrows():\n",
    "#         # print(whole_price['category_name'].values==kind)\n",
    "#         # break\n",
    "#         if whole_price['category_name'].values == kind:\n",
    "#             price.at[index, kind] += row['wholesale_price']\n",
    "# name = ['花叶类', '花菜类', '水生根茎类', '茄类', '辣椒类', '食用菌']\n",
    "# price.columns = name\n",
    "# price.to_excel('品类日批发价.xlsx', index=True)"
   ]
  }
 ],
 "metadata": {
  "kernelspec": {
   "display_name": "Python 3 (ipykernel)",
   "language": "python",
   "name": "python3"
  },
  "language_info": {
   "codemirror_mode": {
    "name": "ipython",
    "version": 3
   },
   "file_extension": ".py",
   "mimetype": "text/x-python",
   "name": "python",
   "nbconvert_exporter": "python",
   "pygments_lexer": "ipython3",
   "version": "3.11.4"
  }
 },
 "nbformat": 4,
 "nbformat_minor": 5
}

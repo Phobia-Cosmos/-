{
 "cells": [
  {
   "cell_type": "markdown",
   "id": "56c8fee2-3929-4f3f-a9b8-61b4c323eac1",
   "metadata": {},
   "source": [
    "# 预测2023年7月1-7日各品类蔬菜批发价"
   ]
  },
  {
   "cell_type": "code",
   "execution_count": 1,
   "id": "92c4abf8-3d43-4be0-b5d0-f9c4f8d62592",
   "metadata": {},
   "outputs": [],
   "source": [
    "import numpy as np\n",
    "import pandas as pd\n",
    "from statsmodels.tsa.seasonal import seasonal_decompose\n",
    "from pmdarima.arima.utils import ndiffs\n",
    "import pmdarima as pm\n",
    "import warnings\n",
    "from statsmodels.tsa.statespace.sarimax import SARIMAX\n",
    "\n",
    "df =pd.read_excel(\"品类日批发价.xlsx\",index_col=0)\n",
    "df.index.freq = df.index.inferred_freq\n",
    "\n",
    "predicted = pd.DataFrame(index=pd.date_range(start='2023-07-01', end='2023-07-08'))"
   ]
  },
  {
   "cell_type": "code",
   "execution_count": 2,
   "id": "4e3b6960-3a52-4bdc-bcd8-2a0247afd959",
   "metadata": {},
   "outputs": [
    {
     "name": "stdout",
     "output_type": "stream",
     "text": [
      "0.16355736375661545\n",
      "0.2927349594356227\n",
      "-1.3005728165784856\n",
      "辣椒类\n",
      "1.1203128677248653\n",
      "0.11676765167548789\n",
      "-0.6986260383597878\n"
     ]
    }
   ],
   "source": [
    "# 检查各列数据是否具有季节性、时间序列数据是否静止\n",
    "for col in df.columns:\n",
    "    decompose_result = seasonal_decompose(df[col], model='additive', period=30)\n",
    "    print(decompose_result.seasonal.sum()) # 非0表示具有季节性\n",
    "    n_adf = ndiffs(df[col], test='adf')  # 0表示数据静止\n",
    "    if n_adf == 1:\n",
    "        print(col)"
   ]
  },
  {
   "cell_type": "markdown",
   "id": "da657e9a-01c5-4a1d-ae84-5f74ccd7e20b",
   "metadata": {},
   "source": [
    "## 注意：自动寻参的结果参数在模型拟合是可能会达到训练阈值次数，但是由于各模型的预测结果在合理的范围内，我们因此接受该结果；此外，该段代码需要20左右分钟时间"
   ]
  },
  {
   "cell_type": "code",
   "execution_count": 44,
   "id": "96996c76-6149-42ff-a8d4-9048a06fb588",
   "metadata": {
    "scrolled": true
   },
   "outputs": [
    {
     "name": "stderr",
     "output_type": "stream",
     "text": [
      "/Library/Frameworks/Python.framework/Versions/3.11/lib/python3.11/site-packages/statsmodels/tsa/base/tsa_model.py:473: ValueWarning: A date index has been provided, but it has no associated frequency information and so will be ignored when e.g. forecasting.\n",
      "  self._init_dates(dates, freq)\n",
      "/Library/Frameworks/Python.framework/Versions/3.11/lib/python3.11/site-packages/statsmodels/tsa/base/tsa_model.py:473: ValueWarning: A date index has been provided, but it has no associated frequency information and so will be ignored when e.g. forecasting.\n",
      "  self._init_dates(dates, freq)\n",
      " This problem is unconstrained.\n"
     ]
    },
    {
     "name": "stdout",
     "output_type": "stream",
     "text": [
      "RUNNING THE L-BFGS-B CODE\n",
      "\n",
      "           * * *\n",
      "\n",
      "Machine precision = 2.220D-16\n",
      " N =            9     M =           10\n",
      "\n",
      "At X0         0 variables are exactly at the bounds\n",
      "\n",
      "At iterate    0    f=  1.03788D+00    |proj g|=  1.83885D+00\n",
      "\n",
      "At iterate    5    f=  7.24800D-01    |proj g|=  8.55961D-02\n",
      "\n",
      "At iterate   10    f=  6.27086D-01    |proj g|=  8.60210D-02\n",
      "\n",
      "At iterate   15    f=  6.09569D-01    |proj g|=  4.66550D-02\n",
      "\n",
      "At iterate   20    f=  6.06620D-01    |proj g|=  1.74293D-03\n",
      "\n",
      "At iterate   25    f=  6.05736D-01    |proj g|=  1.09916D-02\n",
      "\n",
      "At iterate   30    f=  6.04205D-01    |proj g|=  1.40660D-02\n",
      "\n",
      "At iterate   35    f=  6.04051D-01    |proj g|=  8.98417D-05\n",
      "\n",
      "At iterate   40    f=  6.04048D-01    |proj g|=  5.51917D-03\n",
      "\n",
      "At iterate   45    f=  6.03843D-01    |proj g|=  2.29117D-02\n"
     ]
    },
    {
     "name": "stderr",
     "output_type": "stream",
     "text": [
      "/Library/Frameworks/Python.framework/Versions/3.11/lib/python3.11/site-packages/statsmodels/base/model.py:607: ConvergenceWarning: Maximum Likelihood optimization failed to converge. Check mle_retvals\n",
      "  warnings.warn(\"Maximum Likelihood optimization failed to \"\n"
     ]
    },
    {
     "name": "stdout",
     "output_type": "stream",
     "text": [
      "\n",
      "At iterate   50    f=  6.03587D-01    |proj g|=  1.15552D-03\n",
      "\n",
      "           * * *\n",
      "\n",
      "Tit   = total number of iterations\n",
      "Tnf   = total number of function evaluations\n",
      "Tnint = total number of segments explored during Cauchy searches\n",
      "Skip  = number of BFGS updates skipped\n",
      "Nact  = number of active bounds at final generalized Cauchy point\n",
      "Projg = norm of the final projected gradient\n",
      "F     = final function value\n",
      "\n",
      "           * * *\n",
      "\n",
      "   N    Tit     Tnf  Tnint  Skip  Nact     Projg        F\n",
      "    9     50     63      1     0     0   1.156D-03   6.036D-01\n",
      "  F =  0.60358661351720788     \n",
      "\n",
      "STOP: TOTAL NO. of ITERATIONS REACHED LIMIT                 \n",
      "AIC: 1335.0259906945475, BIC: 1379.9796405670452, MSE: 0.24793655559333838, MAE: 0.271471276985095, Order: (3, 0, 1)\n"
     ]
    },
    {
     "name": "stderr",
     "output_type": "stream",
     "text": [
      "/Library/Frameworks/Python.framework/Versions/3.11/lib/python3.11/site-packages/statsmodels/tsa/base/tsa_model.py:836: ValueWarning: No supported index is available. Prediction results will be given with an integer index beginning at `start`.\n",
      "  return get_prediction_index(\n",
      "/Library/Frameworks/Python.framework/Versions/3.11/lib/python3.11/site-packages/statsmodels/tsa/base/tsa_model.py:836: FutureWarning: No supported index is available. In the next version, calling this method in a model without a supported index will result in an exception.\n",
      "  return get_prediction_index(\n",
      "/Library/Frameworks/Python.framework/Versions/3.11/lib/python3.11/site-packages/statsmodels/tsa/base/tsa_model.py:473: ValueWarning: A date index has been provided, but it has no associated frequency information and so will be ignored when e.g. forecasting.\n",
      "  self._init_dates(dates, freq)\n",
      "/Library/Frameworks/Python.framework/Versions/3.11/lib/python3.11/site-packages/statsmodels/tsa/base/tsa_model.py:473: ValueWarning: A date index has been provided, but it has no associated frequency information and so will be ignored when e.g. forecasting.\n",
      "  self._init_dates(dates, freq)\n",
      " This problem is unconstrained.\n"
     ]
    },
    {
     "name": "stdout",
     "output_type": "stream",
     "text": [
      "RUNNING THE L-BFGS-B CODE\n",
      "\n",
      "           * * *\n",
      "\n",
      "Machine precision = 2.220D-16\n",
      " N =           11     M =           10\n",
      "\n",
      "At X0         0 variables are exactly at the bounds\n",
      "\n",
      "At iterate    0    f=  1.21364D+00    |proj g|=  2.53806D-01\n",
      "\n",
      "At iterate    5    f=  1.15036D+00    |proj g|=  5.84834D-02\n",
      "\n",
      "At iterate   10    f=  1.09969D+00    |proj g|=  1.64344D-02\n",
      "\n",
      "At iterate   15    f=  1.09922D+00    |proj g|=  2.48090D-03\n",
      "\n",
      "At iterate   20    f=  1.09779D+00    |proj g|=  3.83023D-02\n",
      "\n",
      "At iterate   25    f=  1.09500D+00    |proj g|=  4.51972D-03\n",
      "\n",
      "At iterate   30    f=  1.09407D+00    |proj g|=  5.39215D-02\n",
      "\n",
      "At iterate   35    f=  1.09240D+00    |proj g|=  5.00916D-03\n",
      "\n",
      "At iterate   40    f=  1.09231D+00    |proj g|=  7.97945D-04\n"
     ]
    },
    {
     "name": "stderr",
     "output_type": "stream",
     "text": [
      "\n",
      " Bad direction in the line search;\n",
      "   refresh the lbfgs memory and restart the iteration.\n"
     ]
    },
    {
     "name": "stdout",
     "output_type": "stream",
     "text": [
      "\n",
      "At iterate   45    f=  1.09231D+00    |proj g|=  6.75012D-05\n"
     ]
    },
    {
     "name": "stderr",
     "output_type": "stream",
     "text": [
      "/Library/Frameworks/Python.framework/Versions/3.11/lib/python3.11/site-packages/statsmodels/base/model.py:607: ConvergenceWarning: Maximum Likelihood optimization failed to converge. Check mle_retvals\n",
      "  warnings.warn(\"Maximum Likelihood optimization failed to \"\n"
     ]
    },
    {
     "name": "stdout",
     "output_type": "stream",
     "text": [
      "\n",
      "At iterate   50    f=  1.09231D+00    |proj g|=  6.16788D-04\n",
      "\n",
      "           * * *\n",
      "\n",
      "Tit   = total number of iterations\n",
      "Tnf   = total number of function evaluations\n",
      "Tnint = total number of segments explored during Cauchy searches\n",
      "Skip  = number of BFGS updates skipped\n",
      "Nact  = number of active bounds at final generalized Cauchy point\n",
      "Projg = norm of the final projected gradient\n",
      "F     = final function value\n",
      "\n",
      "           * * *\n",
      "\n",
      "   N    Tit     Tnf  Tnint  Skip  Nact     Projg        F\n",
      "   11     50     83      2     0     0   6.168D-04   1.092D+00\n",
      "  F =   1.0923118275891408     \n",
      "\n",
      "STOP: TOTAL NO. of ITERATIONS REACHED LIMIT                 \n",
      "AIC: 2405.4244077995054, BIC: 2460.3677576436694, MSE: 0.5435076676449805, MAE: 0.4092585515733824, Order: (4, 0, 1)\n"
     ]
    },
    {
     "name": "stderr",
     "output_type": "stream",
     "text": [
      "/Library/Frameworks/Python.framework/Versions/3.11/lib/python3.11/site-packages/statsmodels/tsa/base/tsa_model.py:836: ValueWarning: No supported index is available. Prediction results will be given with an integer index beginning at `start`.\n",
      "  return get_prediction_index(\n",
      "/Library/Frameworks/Python.framework/Versions/3.11/lib/python3.11/site-packages/statsmodels/tsa/base/tsa_model.py:836: FutureWarning: No supported index is available. In the next version, calling this method in a model without a supported index will result in an exception.\n",
      "  return get_prediction_index(\n",
      "/Library/Frameworks/Python.framework/Versions/3.11/lib/python3.11/site-packages/statsmodels/tsa/base/tsa_model.py:473: ValueWarning: A date index has been provided, but it has no associated frequency information and so will be ignored when e.g. forecasting.\n",
      "  self._init_dates(dates, freq)\n",
      "/Library/Frameworks/Python.framework/Versions/3.11/lib/python3.11/site-packages/statsmodels/tsa/base/tsa_model.py:473: ValueWarning: A date index has been provided, but it has no associated frequency information and so will be ignored when e.g. forecasting.\n",
      "  self._init_dates(dates, freq)\n",
      " This problem is unconstrained.\n"
     ]
    },
    {
     "name": "stdout",
     "output_type": "stream",
     "text": [
      "RUNNING THE L-BFGS-B CODE\n",
      "\n",
      "           * * *\n",
      "\n",
      "Machine precision = 2.220D-16\n",
      " N =            3     M =           10\n",
      "\n",
      "At X0         0 variables are exactly at the bounds\n",
      "\n",
      "At iterate    0    f=  1.35057D+00    |proj g|=  3.57347D-01\n",
      "\n",
      "At iterate    5    f=  1.24627D+00    |proj g|=  4.50406D-02\n",
      "\n",
      "At iterate   10    f=  1.23195D+00    |proj g|=  1.49604D-03\n",
      "\n",
      "At iterate   15    f=  1.23113D+00    |proj g|=  1.23738D-03\n",
      "\n",
      "At iterate   20    f=  1.23106D+00    |proj g|=  8.04285D-04\n",
      "\n",
      "At iterate   25    f=  1.23105D+00    |proj g|=  9.29856D-04\n",
      "\n",
      "           * * *\n",
      "\n",
      "Tit   = total number of iterations\n",
      "Tnf   = total number of function evaluations\n",
      "Tnint = total number of segments explored during Cauchy searches\n",
      "Skip  = number of BFGS updates skipped\n",
      "Nact  = number of active bounds at final generalized Cauchy point\n",
      "Projg = norm of the final projected gradient\n",
      "F     = final function value\n",
      "\n",
      "           * * *\n",
      "\n",
      "   N    Tit     Tnf  Tnint  Skip  Nact     Projg        F\n",
      "    3     27     33      1     0     0   3.079D-04   1.231D+00\n",
      "  F =   1.2310514570168476     \n",
      "\n",
      "CONVERGENCE: REL_REDUCTION_OF_F_<=_FACTR*EPSMCH             \n",
      "AIC: 2692.1542792107616, BIC: 2707.1028674651684, MSE: 0.7455598017728315, MAE: 0.5583882878691275, Order: (0, 1, 1)\n"
     ]
    },
    {
     "name": "stderr",
     "output_type": "stream",
     "text": [
      "/Library/Frameworks/Python.framework/Versions/3.11/lib/python3.11/site-packages/statsmodels/tsa/base/tsa_model.py:836: ValueWarning: No supported index is available. Prediction results will be given with an integer index beginning at `start`.\n",
      "  return get_prediction_index(\n",
      "/Library/Frameworks/Python.framework/Versions/3.11/lib/python3.11/site-packages/statsmodels/tsa/base/tsa_model.py:836: FutureWarning: No supported index is available. In the next version, calling this method in a model without a supported index will result in an exception.\n",
      "  return get_prediction_index(\n",
      "/Library/Frameworks/Python.framework/Versions/3.11/lib/python3.11/site-packages/statsmodels/tsa/base/tsa_model.py:473: ValueWarning: A date index has been provided, but it has no associated frequency information and so will be ignored when e.g. forecasting.\n",
      "  self._init_dates(dates, freq)\n",
      "/Library/Frameworks/Python.framework/Versions/3.11/lib/python3.11/site-packages/statsmodels/tsa/base/tsa_model.py:473: ValueWarning: A date index has been provided, but it has no associated frequency information and so will be ignored when e.g. forecasting.\n",
      "  self._init_dates(dates, freq)\n",
      " This problem is unconstrained.\n"
     ]
    },
    {
     "name": "stdout",
     "output_type": "stream",
     "text": [
      "RUNNING THE L-BFGS-B CODE\n",
      "\n",
      "           * * *\n",
      "\n",
      "Machine precision = 2.220D-16\n",
      " N =            7     M =           10\n",
      "\n",
      "At X0         0 variables are exactly at the bounds\n",
      "\n",
      "At iterate    0    f=  1.12947D+00    |proj g|=  1.03773D+00\n",
      "\n",
      "At iterate    5    f=  9.83863D-01    |proj g|=  1.66355D-02\n",
      "\n",
      "At iterate   10    f=  9.83636D-01    |proj g|=  1.27522D-02\n",
      "\n",
      "At iterate   15    f=  8.66278D-01    |proj g|=  2.01969D-01\n",
      "\n",
      "At iterate   20    f=  8.27181D-01    |proj g|=  6.78157D-02\n",
      "\n",
      "At iterate   25    f=  8.25746D-01    |proj g|=  3.32877D-04\n",
      "\n",
      "           * * *\n",
      "\n",
      "Tit   = total number of iterations\n",
      "Tnf   = total number of function evaluations\n",
      "Tnint = total number of segments explored during Cauchy searches\n",
      "Skip  = number of BFGS updates skipped\n",
      "Nact  = number of active bounds at final generalized Cauchy point\n",
      "Projg = norm of the final projected gradient\n",
      "F     = final function value\n",
      "\n",
      "           * * *\n",
      "\n",
      "   N    Tit     Tnf  Tnint  Skip  Nact     Projg        F\n",
      "    7     27     38      1     0     0   3.132D-05   8.257D-01\n",
      "  F =  0.82574630085963796     \n",
      "\n",
      "CONVERGENCE: REL_REDUCTION_OF_F_<=_FACTR*EPSMCH             \n",
      "AIC: 1815.77842847573, BIC: 1850.7423783765614, MSE: 0.319413523420887, MAE: 0.34919349760909646, Order: (3, 0, 0)\n"
     ]
    },
    {
     "name": "stderr",
     "output_type": "stream",
     "text": [
      "/Library/Frameworks/Python.framework/Versions/3.11/lib/python3.11/site-packages/statsmodels/tsa/base/tsa_model.py:836: ValueWarning: No supported index is available. Prediction results will be given with an integer index beginning at `start`.\n",
      "  return get_prediction_index(\n",
      "/Library/Frameworks/Python.framework/Versions/3.11/lib/python3.11/site-packages/statsmodels/tsa/base/tsa_model.py:836: FutureWarning: No supported index is available. In the next version, calling this method in a model without a supported index will result in an exception.\n",
      "  return get_prediction_index(\n",
      "/Library/Frameworks/Python.framework/Versions/3.11/lib/python3.11/site-packages/statsmodels/tsa/base/tsa_model.py:473: ValueWarning: A date index has been provided, but it has no associated frequency information and so will be ignored when e.g. forecasting.\n",
      "  self._init_dates(dates, freq)\n",
      "/Library/Frameworks/Python.framework/Versions/3.11/lib/python3.11/site-packages/statsmodels/tsa/base/tsa_model.py:473: ValueWarning: A date index has been provided, but it has no associated frequency information and so will be ignored when e.g. forecasting.\n",
      "  self._init_dates(dates, freq)\n",
      " This problem is unconstrained.\n"
     ]
    },
    {
     "name": "stdout",
     "output_type": "stream",
     "text": [
      "RUNNING THE L-BFGS-B CODE\n",
      "\n",
      "           * * *\n",
      "\n",
      "Machine precision = 2.220D-16\n",
      " N =            7     M =           10\n",
      "\n",
      "At X0         0 variables are exactly at the bounds\n",
      "\n",
      "At iterate    0    f=  1.32300D+00    |proj g|=  1.07073D-01\n",
      "\n",
      "At iterate    5    f=  1.26577D+00    |proj g|=  1.62869D-01\n",
      "\n",
      "At iterate   10    f=  1.24052D+00    |proj g|=  1.68905D-02\n",
      "\n",
      "At iterate   15    f=  1.23714D+00    |proj g|=  5.02384D-03\n",
      "\n",
      "At iterate   20    f=  1.23714D+00    |proj g|=  3.68139D-04\n",
      "\n",
      "At iterate   25    f=  1.23707D+00    |proj g|=  8.64002D-03\n",
      "\n",
      "At iterate   30    f=  1.23682D+00    |proj g|=  1.60980D-03\n",
      "\n",
      "At iterate   35    f=  1.23681D+00    |proj g|=  4.91521D-04\n",
      "\n",
      "At iterate   40    f=  1.23681D+00    |proj g|=  4.12405D-05\n",
      "\n",
      "           * * *\n",
      "\n",
      "Tit   = total number of iterations\n",
      "Tnf   = total number of function evaluations\n",
      "Tnint = total number of segments explored during Cauchy searches\n",
      "Skip  = number of BFGS updates skipped\n",
      "Nact  = number of active bounds at final generalized Cauchy point\n",
      "Projg = norm of the final projected gradient\n",
      "F     = final function value\n",
      "\n",
      "           * * *\n",
      "\n",
      "   N    Tit     Tnf  Tnint  Skip  Nact     Projg        F\n",
      "    7     41     52      1     0     0   4.243D-05   1.237D+00\n",
      "  F =   1.2368097000674860     \n",
      "\n",
      "CONVERGENCE: REL_REDUCTION_OF_F_<=_FACTR*EPSMCH             \n",
      "AIC: 2712.7187655472544, BIC: 2747.682715448086, MSE: 0.74791361709148, MAE: 0.5389567467665579, Order: (2, 0, 1)\n"
     ]
    },
    {
     "name": "stderr",
     "output_type": "stream",
     "text": [
      "/Library/Frameworks/Python.framework/Versions/3.11/lib/python3.11/site-packages/statsmodels/tsa/base/tsa_model.py:836: ValueWarning: No supported index is available. Prediction results will be given with an integer index beginning at `start`.\n",
      "  return get_prediction_index(\n",
      "/Library/Frameworks/Python.framework/Versions/3.11/lib/python3.11/site-packages/statsmodels/tsa/base/tsa_model.py:836: FutureWarning: No supported index is available. In the next version, calling this method in a model without a supported index will result in an exception.\n",
      "  return get_prediction_index(\n",
      "/Library/Frameworks/Python.framework/Versions/3.11/lib/python3.11/site-packages/statsmodels/tsa/base/tsa_model.py:473: ValueWarning: A date index has been provided, but it has no associated frequency information and so will be ignored when e.g. forecasting.\n",
      "  self._init_dates(dates, freq)\n",
      "/Library/Frameworks/Python.framework/Versions/3.11/lib/python3.11/site-packages/statsmodels/tsa/base/tsa_model.py:473: ValueWarning: A date index has been provided, but it has no associated frequency information and so will be ignored when e.g. forecasting.\n",
      "  self._init_dates(dates, freq)\n"
     ]
    },
    {
     "name": "stdout",
     "output_type": "stream",
     "text": [
      "RUNNING THE L-BFGS-B CODE\n",
      "\n",
      "           * * *\n",
      "\n",
      "Machine precision = 2.220D-16\n",
      " N =           13     M =           10\n",
      "\n",
      "At X0         0 variables are exactly at the bounds\n",
      "\n",
      "At iterate    0    f=  1.81512D+00    |proj g|=  2.96960D-01\n"
     ]
    },
    {
     "name": "stderr",
     "output_type": "stream",
     "text": [
      " This problem is unconstrained.\n"
     ]
    },
    {
     "name": "stdout",
     "output_type": "stream",
     "text": [
      "\n",
      "At iterate    5    f=  1.71560D+00    |proj g|=  1.32973D-01\n",
      "\n",
      "At iterate   10    f=  1.67901D+00    |proj g|=  1.71099D-02\n",
      "\n",
      "At iterate   15    f=  1.67718D+00    |proj g|=  1.98045D-03\n",
      "\n",
      "At iterate   20    f=  1.67697D+00    |proj g|=  3.91934D-03\n",
      "\n",
      "At iterate   25    f=  1.67689D+00    |proj g|=  6.24934D-04\n",
      "\n",
      "At iterate   30    f=  1.67688D+00    |proj g|=  2.60389D-03\n",
      "\n",
      "At iterate   35    f=  1.67663D+00    |proj g|=  1.35805D-02\n",
      "\n",
      "At iterate   40    f=  1.67627D+00    |proj g|=  1.48806D-03\n",
      "\n",
      "At iterate   45    f=  1.67623D+00    |proj g|=  1.01692D-04\n"
     ]
    },
    {
     "name": "stderr",
     "output_type": "stream",
     "text": [
      "/Library/Frameworks/Python.framework/Versions/3.11/lib/python3.11/site-packages/statsmodels/base/model.py:607: ConvergenceWarning: Maximum Likelihood optimization failed to converge. Check mle_retvals\n",
      "  warnings.warn(\"Maximum Likelihood optimization failed to \"\n"
     ]
    },
    {
     "name": "stdout",
     "output_type": "stream",
     "text": [
      "\n",
      "At iterate   50    f=  1.67623D+00    |proj g|=  7.22655D-04\n",
      "\n",
      "           * * *\n",
      "\n",
      "Tit   = total number of iterations\n",
      "Tnf   = total number of function evaluations\n",
      "Tnint = total number of segments explored during Cauchy searches\n",
      "Skip  = number of BFGS updates skipped\n",
      "Nact  = number of active bounds at final generalized Cauchy point\n",
      "Projg = norm of the final projected gradient\n",
      "F     = final function value\n",
      "\n",
      "           * * *\n",
      "\n",
      "   N    Tit     Tnf  Tnint  Skip  Nact     Projg        F\n",
      "   13     50     55      1     0     0   7.227D-04   1.676D+00\n",
      "  F =   1.6762312969277682     \n",
      "\n",
      "STOP: TOTAL NO. of ITERATIONS REACHED LIMIT                 \n",
      "AIC: 3683.5366898963903, BIC: 3748.46973971222, MSE: 1.9524955579824617, MAE: 0.7355311211118802, Order: (5, 0, 1)\n"
     ]
    },
    {
     "name": "stderr",
     "output_type": "stream",
     "text": [
      "/Library/Frameworks/Python.framework/Versions/3.11/lib/python3.11/site-packages/statsmodels/tsa/base/tsa_model.py:836: ValueWarning: No supported index is available. Prediction results will be given with an integer index beginning at `start`.\n",
      "  return get_prediction_index(\n",
      "/Library/Frameworks/Python.framework/Versions/3.11/lib/python3.11/site-packages/statsmodels/tsa/base/tsa_model.py:836: FutureWarning: No supported index is available. In the next version, calling this method in a model without a supported index will result in an exception.\n",
      "  return get_prediction_index(\n"
     ]
    }
   ],
   "source": [
    "# 使用SARIMA模型来拟合历史批发价数据，使用auto_arima自动寻找参数\n",
    "for col in df.columns:\n",
    "    model = pm.auto_arima(df[col], \n",
    "                          test='adf', # use adftest to find optimal 'd'\n",
    "                          m=12, # frequency of series (if m==1, seasonal is set to FALSE automatically)\n",
    "                          seasonal=True, # No Seasonality for standard ARIMA\n",
    "                          suppress_warnings=True,\n",
    "                          stepwise=True)\n",
    "    # 获取不同列的模型的参数\n",
    "    a,b,c=model.order\n",
    "    model = SARIMAX(df[col], order=(a, b, c),\n",
    "                    seasonal_order=(a, b, c, 12))\n",
    "    fitted = model.fit()\n",
    "    print(f\"AIC: {fitted.aic}, BIC: {fitted.bic}, MSE: {fitted.mse}, MAE: {fitted.mae}, Order: {model.order}\")\n",
    "    predictions = fitted.predict(len(df), len(df)+7) # 预测未来一周的数据（此处多预测一天）\n",
    "    predicted[col]=predictions.values #数据存储于predicted"
   ]
  },
  {
   "cell_type": "code",
   "execution_count": 35,
   "id": "ede42a90-a7a6-4fb4-84ef-671612031ea9",
   "metadata": {},
   "outputs": [],
   "source": [
    "predicted.to_excel('2023年7月1-7日批发价.xlsx',index=True)"
   ]
  }
 ],
 "metadata": {
  "kernelspec": {
   "display_name": "Python 3 (ipykernel)",
   "language": "python",
   "name": "python3"
  },
  "language_info": {
   "codemirror_mode": {
    "name": "ipython",
    "version": 3
   },
   "file_extension": ".py",
   "mimetype": "text/x-python",
   "name": "python",
   "nbconvert_exporter": "python",
   "pygments_lexer": "ipython3",
   "version": "3.11.4"
  }
 },
 "nbformat": 4,
 "nbformat_minor": 5
}

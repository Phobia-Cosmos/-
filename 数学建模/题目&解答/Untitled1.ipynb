{
 "cells": [
  {
   "cell_type": "code",
   "execution_count": null,
   "id": "22d98426-c70f-40c3-97c3-d69739eb39d2",
   "metadata": {},
   "outputs": [],
   "source": [
    "import numpy as np\n",
    "import pandas as pd\n",
    "df=pd.read_excel(\"单品-历史信息.xlsx\", index_col=0)\n",
    "df1=pd.read_excel(\"附件/49类单品-历史批发价.xlsx\", index_col=0)\n",
    "unsorted = df.loc[df1.columns]"
   ]
  },
  {
   "cell_type": "code",
   "execution_count": null,
   "id": "544229fd-fe51-4e94-aa34-674218bde160",
   "metadata": {},
   "outputs": [],
   "source": []
  }
 ],
 "metadata": {
  "kernelspec": {
   "display_name": "Python 3 (ipykernel)",
   "language": "python",
   "name": "python3"
  },
  "language_info": {
   "codemirror_mode": {
    "name": "ipython",
    "version": 3
   },
   "file_extension": ".py",
   "mimetype": "text/x-python",
   "name": "python",
   "nbconvert_exporter": "python",
   "pygments_lexer": "ipython3",
   "version": "3.11.4"
  }
 },
 "nbformat": 4,
 "nbformat_minor": 5
}
